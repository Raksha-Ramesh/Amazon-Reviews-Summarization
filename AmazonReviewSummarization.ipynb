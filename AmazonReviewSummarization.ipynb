{
 "cells": [
  {
   "cell_type": "code",
   "execution_count": 1,
   "metadata": {},
   "outputs": [],
   "source": [
    "from attention_keras.layers.attention import AttentionLayer"
   ]
  },
  {
   "cell_type": "code",
   "execution_count": 2,
   "metadata": {},
   "outputs": [
    {
     "name": "stderr",
     "output_type": "stream",
     "text": [
      "Using TensorFlow backend.\n"
     ]
    }
   ],
   "source": [
    "import numpy as np\n",
    "import pandas as pd \n",
    "import re\n",
    "from bs4 import BeautifulSoup\n",
    "from keras.preprocessing.text import Tokenizer \n",
    "from keras.preprocessing.sequence import pad_sequences\n",
    "from nltk.corpus import stopwords\n",
    "from tensorflow.keras.layers import Input, LSTM, Embedding, Dense, Concatenate, TimeDistributed\n",
    "from tensorflow.keras.models import Model\n",
    "from tensorflow.keras.callbacks import EarlyStopping\n",
    "import warnings\n",
    "pd.set_option(\"display.max_colwidth\", 200)\n",
    "warnings.filterwarnings(\"ignore\")"
   ]
  },
  {
   "cell_type": "code",
   "execution_count": 3,
   "metadata": {},
   "outputs": [],
   "source": [
    "data=pd.read_csv(\"Reviews.csv\",nrows=100000,encoding='latin-1')"
   ]
  },
  {
   "cell_type": "code",
   "execution_count": 4,
   "metadata": {},
   "outputs": [],
   "source": [
    "data.drop_duplicates(subset=['Text'],inplace=True)#dropping duplicates\n",
    "data.dropna(axis=0,inplace=True)#dropping na"
   ]
  },
  {
   "cell_type": "code",
   "execution_count": 5,
   "metadata": {},
   "outputs": [
    {
     "name": "stdout",
     "output_type": "stream",
     "text": [
      "<class 'pandas.core.frame.DataFrame'>\n",
      "Int64Index: 88421 entries, 0 to 99999\n",
      "Data columns (total 10 columns):\n",
      "Id                        88421 non-null int64\n",
      "ProductId                 88421 non-null object\n",
      "UserId                    88421 non-null object\n",
      "ProfileName               88421 non-null object\n",
      "HelpfulnessNumerator      88421 non-null int64\n",
      "HelpfulnessDenominator    88421 non-null int64\n",
      "Score                     88421 non-null int64\n",
      "Time                      88421 non-null int64\n",
      "Summary                   88421 non-null object\n",
      "Text                      88421 non-null object\n",
      "dtypes: int64(5), object(5)\n",
      "memory usage: 7.4+ MB\n"
     ]
    }
   ],
   "source": [
    "data.info()"
   ]
  },
  {
   "cell_type": "code",
   "execution_count": 6,
   "metadata": {},
   "outputs": [],
   "source": [
    "contraction_mapping = {\"ain't\": \"is not\", \"aren't\": \"are not\",\"can't\": \"cannot\", \"'cause\": \"because\", \"could've\": \"could have\", \"couldn't\": \"could not\",\n",
    "\n",
    "                           \"didn't\": \"did not\", \"doesn't\": \"does not\", \"don't\": \"do not\", \"hadn't\": \"had not\", \"hasn't\": \"has not\", \"haven't\": \"have not\",\n",
    "\n",
    "                           \"he'd\": \"he would\",\"he'll\": \"he will\", \"he's\": \"he is\", \"how'd\": \"how did\", \"how'd'y\": \"how do you\", \"how'll\": \"how will\", \"how's\": \"how is\",\n",
    "\n",
    "                           \"I'd\": \"I would\", \"I'd've\": \"I would have\", \"I'll\": \"I will\", \"I'll've\": \"I will have\",\"I'm\": \"I am\", \"I've\": \"I have\", \"i'd\": \"i would\",\n",
    "\n",
    "                           \"i'd've\": \"i would have\", \"i'll\": \"i will\",  \"i'll've\": \"i will have\",\"i'm\": \"i am\", \"i've\": \"i have\", \"isn't\": \"is not\", \"it'd\": \"it would\",\n",
    "\n",
    "                           \"it'd've\": \"it would have\", \"it'll\": \"it will\", \"it'll've\": \"it will have\",\"it's\": \"it is\", \"let's\": \"let us\", \"ma'am\": \"madam\",\n",
    "\n",
    "                           \"mayn't\": \"may not\", \"might've\": \"might have\",\"mightn't\": \"might not\",\"mightn't've\": \"might not have\", \"must've\": \"must have\",\n",
    "\n",
    "                           \"mustn't\": \"must not\", \"mustn't've\": \"must not have\", \"needn't\": \"need not\", \"needn't've\": \"need not have\",\"o'clock\": \"of the clock\",\n",
    "\n",
    "                           \"oughtn't\": \"ought not\", \"oughtn't've\": \"ought not have\", \"shan't\": \"shall not\", \"sha'n't\": \"shall not\", \"shan't've\": \"shall not have\",\n",
    "\n",
    "                           \"she'd\": \"she would\", \"she'd've\": \"she would have\", \"she'll\": \"she will\", \"she'll've\": \"she will have\", \"she's\": \"she is\",\n",
    "\n",
    "                           \"should've\": \"should have\", \"shouldn't\": \"should not\", \"shouldn't've\": \"should not have\", \"so've\": \"so have\",\"so's\": \"so as\",\n",
    "\n",
    "                           \"this's\": \"this is\",\"that'd\": \"that would\", \"that'd've\": \"that would have\", \"that's\": \"that is\", \"there'd\": \"there would\",\n",
    "\n",
    "                           \"there'd've\": \"there would have\", \"there's\": \"there is\", \"here's\": \"here is\",\"they'd\": \"they would\", \"they'd've\": \"they would have\",\n",
    "\n",
    "                           \"they'll\": \"they will\", \"they'll've\": \"they will have\", \"they're\": \"they are\", \"they've\": \"they have\", \"to've\": \"to have\",\n",
    "\n",
    "                           \"wasn't\": \"was not\", \"we'd\": \"we would\", \"we'd've\": \"we would have\", \"we'll\": \"we will\", \"we'll've\": \"we will have\", \"we're\": \"we are\",\n",
    "\n",
    "                           \"we've\": \"we have\", \"weren't\": \"were not\", \"what'll\": \"what will\", \"what'll've\": \"what will have\", \"what're\": \"what are\",\n",
    "\n",
    "                           \"what's\": \"what is\", \"what've\": \"what have\", \"when's\": \"when is\", \"when've\": \"when have\", \"where'd\": \"where did\", \"where's\": \"where is\",\n",
    "\n",
    "                           \"where've\": \"where have\", \"who'll\": \"who will\", \"who'll've\": \"who will have\", \"who's\": \"who is\", \"who've\": \"who have\",\n",
    "\n",
    "                           \"why's\": \"why is\", \"why've\": \"why have\", \"will've\": \"will have\", \"won't\": \"will not\", \"won't've\": \"will not have\",\n",
    "\n",
    "                           \"would've\": \"would have\", \"wouldn't\": \"would not\", \"wouldn't've\": \"would not have\", \"y'all\": \"you all\",\n",
    "\n",
    "                           \"y'all'd\": \"you all would\",\"y'all'd've\": \"you all would have\",\"y'all're\": \"you all are\",\"y'all've\": \"you all have\",\n",
    "\n",
    "                           \"you'd\": \"you would\", \"you'd've\": \"you would have\", \"you'll\": \"you will\", \"you'll've\": \"you will have\",\n",
    "\n",
    "                           \"you're\": \"you are\", \"you've\": \"you have\"}"
   ]
  },
  {
   "cell_type": "code",
   "execution_count": 7,
   "metadata": {},
   "outputs": [],
   "source": [
    "stop_words = set(stopwords.words('english')) \n",
    "\n",
    "def text_cleaner(text,num):\n",
    "    newString = text.lower()\n",
    "    newString = BeautifulSoup(newString, \"lxml\").text\n",
    "    newString = re.sub(r'\\([^)]*\\)', '', newString)\n",
    "    newString = re.sub('\"','', newString)\n",
    "    newString = ' '.join([contraction_mapping[t] if t in contraction_mapping else t for t in newString.split(\" \")])    \n",
    "    newString = re.sub(r\"'s\\b\",\"\",newString)\n",
    "    newString = re.sub(\"[^a-zA-Z]\", \" \", newString) \n",
    "    newString = re.sub('[m]{2,}', 'mm', newString)\n",
    "    if(num==0):\n",
    "        tokens = [w for w in newString.split() if not w in stop_words]\n",
    "    else:\n",
    "        tokens=newString.split()\n",
    "    long_words=[]\n",
    "    for i in tokens:\n",
    "        if len(i)>1:                                                 #removing short word\n",
    "            long_words.append(i)   \n",
    "    return (\" \".join(long_words)).strip()"
   ]
  },
  {
   "cell_type": "code",
   "execution_count": 8,
   "metadata": {},
   "outputs": [],
   "source": [
    "#call the function\n",
    "cleaned_text = []\n",
    "for t in data['Text']:\n",
    "    cleaned_text.append(text_cleaner(t,0))"
   ]
  },
  {
   "cell_type": "code",
   "execution_count": 9,
   "metadata": {},
   "outputs": [
    {
     "data": {
      "text/plain": [
       "['bought several vitality canned dog food products found good quality product looks like stew processed meat smells better labrador finicky appreciates product better',\n",
       " 'product arrived labeled jumbo salted peanuts peanuts actually small sized unsalted sure error vendor intended represent product jumbo',\n",
       " 'confection around centuries light pillowy citrus gelatin nuts case filberts cut tiny squares liberally coated powdered sugar tiny mouthful heaven chewy flavorful highly recommend yummy treat familiar story lewis lion witch wardrobe treat seduces edmund selling brother sisters witch',\n",
       " 'looking secret ingredient robitussin believe found got addition root beer extract ordered made cherry soda flavor medicinal',\n",
       " 'great taffy great price wide assortment yummy taffy delivery quick taffy lover deal']"
      ]
     },
     "execution_count": 9,
     "metadata": {},
     "output_type": "execute_result"
    }
   ],
   "source": [
    "cleaned_text[:5]"
   ]
  },
  {
   "cell_type": "code",
   "execution_count": 10,
   "metadata": {},
   "outputs": [],
   "source": [
    "#call the function\n",
    "cleaned_summary = []\n",
    "for t in data['Summary']:\n",
    "    cleaned_summary.append(text_cleaner(t,1))"
   ]
  },
  {
   "cell_type": "code",
   "execution_count": 11,
   "metadata": {},
   "outputs": [],
   "source": [
    "data['cleaned_text']=cleaned_text\n",
    "data['cleaned_summary']=cleaned_summary"
   ]
  },
  {
   "cell_type": "code",
   "execution_count": 12,
   "metadata": {},
   "outputs": [],
   "source": [
    "data.replace('', np.nan, inplace=True)\n",
    "data.dropna(axis=0,inplace=True)"
   ]
  },
  {
   "cell_type": "code",
   "execution_count": 14,
   "metadata": {},
   "outputs": [
    {
     "data": {
      "image/png": "[encoded data removed]",
      "text/plain": [
       "<Figure size 432x288 with 2 Axes>"
      ]
     },
     "metadata": {
      "needs_background": "light"
     },
     "output_type": "display_data"
    }
   ],
   "source": [
    "import matplotlib.pyplot as plt\n",
    "\n",
    "text_word_count = []\n",
    "summary_word_count = []\n",
    "\n",
    "# populate the lists with sentence lengths\n",
    "for i in data['cleaned_text']:\n",
    "      text_word_count.append(len(i.split()))\n",
    "\n",
    "for i in data['cleaned_summary']:\n",
    "      summary_word_count.append(len(i.split()))\n",
    "\n",
    "length_df = pd.DataFrame({'text':text_word_count, 'summary':summary_word_count})\n",
    "\n",
    "length_df.hist(bins = 30)\n",
    "plt.show();"
   ]
  },
  {
   "cell_type": "code",
   "execution_count": 15,
   "metadata": {},
   "outputs": [
    {
     "name": "stdout",
     "output_type": "stream",
     "text": [
      "0.9424907471335922\n"
     ]
    }
   ],
   "source": [
    "cnt=0\n",
    "for i in data['cleaned_summary']:\n",
    "    if(len(i.split())<=8):\n",
    "        cnt=cnt+1\n",
    "print(cnt/len(data['cleaned_summary']))"
   ]
  },
  {
   "cell_type": "code",
   "execution_count": 16,
   "metadata": {},
   "outputs": [],
   "source": [
    "max_text_len=30\n",
    "max_summary_len=8"
   ]
  },
  {
   "cell_type": "code",
   "execution_count": 17,
   "metadata": {},
   "outputs": [],
   "source": [
    "cleaned_text =np.array(data['cleaned_text'])\n",
    "cleaned_summary=np.array(data['cleaned_summary'])\n",
    "\n",
    "short_text=[]\n",
    "short_summary=[]\n",
    "\n",
    "for i in range(len(cleaned_text)):\n",
    "    if(len(cleaned_summary[i].split())<=max_summary_len and len(cleaned_text[i].split())<=max_text_len):\n",
    "        short_text.append(cleaned_text[i])\n",
    "        short_summary.append(cleaned_summary[i])\n",
    "        \n",
    "df=pd.DataFrame({'text':short_text,'summary':short_summary})"
   ]
  },
  {
   "cell_type": "code",
   "execution_count": 30,
   "metadata": {},
   "outputs": [],
   "source": [
    "df['summary'] = df['summary'].apply(lambda x : 'sostok'+ x + 'eostok')"
   ]
  },
  {
   "cell_type": "code",
   "execution_count": 31,
   "metadata": {},
   "outputs": [],
   "source": [
    "from sklearn.model_selection import train_test_split\n",
    "x_tr,x_val,y_tr,y_val=train_test_split(np.array(df['text']),np.array(df['summary']),test_size=0.1,random_state=0,shuffle=True)"
   ]
  },
  {
   "cell_type": "code",
   "execution_count": 32,
   "metadata": {},
   "outputs": [],
   "source": [
    "from keras.preprocessing.text import Tokenizer \n",
    "from keras.preprocessing.sequence import pad_sequences\n",
    "\n",
    "#prepare a tokenizer for reviews on training data\n",
    "x_tokenizer = Tokenizer() \n",
    "x_tokenizer.fit_on_texts(list(x_tr))"
   ]
  },
  {
   "cell_type": "code",
   "execution_count": 33,
   "metadata": {},
   "outputs": [
    {
     "name": "stdout",
     "output_type": "stream",
     "text": [
      "% of rare words in vocabulary: 66.12339930151339\n",
      "Total Coverage of rare words: 2.953684513790566\n"
     ]
    }
   ],
   "source": [
    "thresh=4\n",
    "\n",
    "cnt=0\n",
    "tot_cnt=0\n",
    "freq=0\n",
    "tot_freq=0\n",
    "\n",
    "for key,value in x_tokenizer.word_counts.items():\n",
    "    tot_cnt=tot_cnt+1\n",
    "    tot_freq=tot_freq+value\n",
    "    if(value<thresh):\n",
    "        cnt=cnt+1\n",
    "        freq=freq+value\n",
    "    \n",
    "print(\"% of rare words in vocabulary:\",(cnt/tot_cnt)*100)\n",
    "print(\"Total Coverage of rare words:\",(freq/tot_freq)*100)"
   ]
  },
  {
   "cell_type": "code",
   "execution_count": 34,
   "metadata": {},
   "outputs": [],
   "source": [
    "#prepare a tokenizer for reviews on training data\n",
    "x_tokenizer = Tokenizer(num_words=tot_cnt-cnt) \n",
    "x_tokenizer.fit_on_texts(list(x_tr))\n",
    "\n",
    "#convert text sequences into integer sequences\n",
    "x_tr_seq    =   x_tokenizer.texts_to_sequences(x_tr) \n",
    "x_val_seq   =   x_tokenizer.texts_to_sequences(x_val)\n",
    "\n",
    "#padding zero upto maximum length\n",
    "x_tr    =   pad_sequences(x_tr_seq,  maxlen=max_text_len, padding='post')\n",
    "x_val   =   pad_sequences(x_val_seq, maxlen=max_text_len, padding='post')\n",
    "\n",
    "#size of vocabulary ( +1 for padding token)\n",
    "x_voc   =  x_tokenizer.num_words + 1"
   ]
  },
  {
   "cell_type": "code",
   "execution_count": 35,
   "metadata": {},
   "outputs": [
    {
     "data": {
      "text/plain": [
       "8440"
      ]
     },
     "execution_count": 35,
     "metadata": {},
     "output_type": "execute_result"
    }
   ],
   "source": [
    "x_voc"
   ]
  },
  {
   "cell_type": "code",
   "execution_count": 36,
   "metadata": {},
   "outputs": [],
   "source": [
    "#prepare a tokenizer for reviews on training data\n",
    "y_tokenizer = Tokenizer()   \n",
    "y_tokenizer.fit_on_texts(list(y_tr))"
   ]
  },
  {
   "cell_type": "code",
   "execution_count": 37,
   "metadata": {},
   "outputs": [
    {
     "name": "stdout",
     "output_type": "stream",
     "text": [
      "% of rare words in vocabulary: 78.12740675541863\n",
      "Total Coverage of rare words: 3.90190391557539\n"
     ]
    }
   ],
   "source": [
    "thresh=6\n",
    "\n",
    "cnt=0\n",
    "tot_cnt=0\n",
    "freq=0\n",
    "tot_freq=0\n",
    "\n",
    "for key,value in y_tokenizer.word_counts.items():\n",
    "    tot_cnt=tot_cnt+1\n",
    "    tot_freq=tot_freq+value\n",
    "    if(value<thresh):\n",
    "        cnt=cnt+1\n",
    "        freq=freq+value\n",
    "    \n",
    "print(\"% of rare words in vocabulary:\",(cnt/tot_cnt)*100)\n",
    "print(\"Total Coverage of rare words:\",(freq/tot_freq)*100)"
   ]
  },
  {
   "cell_type": "code",
   "execution_count": 38,
   "metadata": {},
   "outputs": [],
   "source": [
    "#prepare a tokenizer for reviews on training data\n",
    "y_tokenizer = Tokenizer(num_words=tot_cnt-cnt) \n",
    "y_tokenizer.fit_on_texts(list(y_tr))\n",
    "\n",
    "#convert text sequences into integer sequences\n",
    "y_tr_seq    =   y_tokenizer.texts_to_sequences(y_tr) \n",
    "y_val_seq   =   y_tokenizer.texts_to_sequences(y_val) \n",
    "\n",
    "#padding zero upto maximum length\n",
    "y_tr    =   pad_sequences(y_tr_seq, maxlen=max_summary_len, padding='post')\n",
    "y_val   =   pad_sequences(y_val_seq, maxlen=max_summary_len, padding='post')\n",
    "\n",
    "#size of vocabulary\n",
    "y_voc  =   y_tokenizer.num_words +1"
   ]
  },
  {
   "cell_type": "code",
   "execution_count": 39,
   "metadata": {},
   "outputs": [
    {
     "data": {
      "text/plain": [
       "(42453, 42453)"
      ]
     },
     "execution_count": 39,
     "metadata": {},
     "output_type": "execute_result"
    }
   ],
   "source": [
    "y_tokenizer.word_counts['sostok'],len(y_tr)"
   ]
  },
  {
   "cell_type": "code",
   "execution_count": 40,
   "metadata": {},
   "outputs": [],
   "source": [
    "ind=[]\n",
    "for i in range(len(y_tr)):\n",
    "    cnt=0\n",
    "    for j in y_tr[i]:\n",
    "        if j!=0:\n",
    "            cnt=cnt+1\n",
    "    if(cnt==2):\n",
    "        ind.append(i)\n",
    "\n",
    "y_tr=np.delete(y_tr,ind, axis=0)\n",
    "x_tr=np.delete(x_tr,ind, axis=0)"
   ]
  },
  {
   "cell_type": "code",
   "execution_count": 41,
   "metadata": {},
   "outputs": [],
   "source": [
    "ind=[]\n",
    "for i in range(len(y_val)):\n",
    "    cnt=0\n",
    "    for j in y_val[i]:\n",
    "        if j!=0:\n",
    "            cnt=cnt+1\n",
    "    if(cnt==2):\n",
    "        ind.append(i)\n",
    "\n",
    "y_val=np.delete(y_val,ind, axis=0)\n",
    "x_val=np.delete(x_val,ind, axis=0)"
   ]
  },
  {
   "cell_type": "code",
   "execution_count": 42,
   "metadata": {},
   "outputs": [
    {
     "name": "stderr",
     "output_type": "stream",
     "text": [
      "WARNING: Logging before flag parsing goes to stderr.\n",
      "W0616 22:32:32.657692 18288 deprecation_wrapper.py:119] From C:\\Users\\ashwi\\Anaconda3\\lib\\site-packages\\keras\\backend\\tensorflow_backend.py:95: The name tf.reset_default_graph is deprecated. Please use tf.compat.v1.reset_default_graph instead.\n",
      "\n",
      "W0616 22:32:32.659656 18288 deprecation_wrapper.py:119] From C:\\Users\\ashwi\\Anaconda3\\lib\\site-packages\\keras\\backend\\tensorflow_backend.py:98: The name tf.placeholder_with_default is deprecated. Please use tf.compat.v1.placeholder_with_default instead.\n",
      "\n",
      "W0616 22:32:32.926214 18288 deprecation_wrapper.py:119] From C:\\Users\\ashwi\\Anaconda3\\lib\\site-packages\\keras\\backend\\tensorflow_backend.py:102: The name tf.get_default_graph is deprecated. Please use tf.compat.v1.get_default_graph instead.\n",
      "\n",
      "W0616 22:32:32.931204 18288 deprecation.py:506] From C:\\Users\\ashwi\\Anaconda3\\lib\\site-packages\\tensorflow\\python\\keras\\initializers.py:119: calling RandomUniform.__init__ (from tensorflow.python.ops.init_ops) with dtype is deprecated and will be removed in a future version.\n",
      "Instructions for updating:\n",
      "Call initializer instance with the dtype argument instead of passing it to the constructor\n",
      "W0616 22:32:32.981067 18288 deprecation.py:506] From C:\\Users\\ashwi\\Anaconda3\\lib\\site-packages\\tensorflow\\python\\ops\\init_ops.py:1251: calling VarianceScaling.__init__ (from tensorflow.python.ops.init_ops) with dtype is deprecated and will be removed in a future version.\n",
      "Instructions for updating:\n",
      "Call initializer instance with the dtype argument instead of passing it to the constructor\n"
     ]
    },
    {
     "name": "stdout",
     "output_type": "stream",
     "text": [
      "Model: \"model\"\n",
      "__________________________________________________________________________________________________\n",
      "Layer (type)                    Output Shape         Param #     Connected to                     \n",
      "==================================================================================================\n",
      "input_1 (InputLayer)            [(None, 30)]         0                                            \n",
      "__________________________________________________________________________________________________\n",
      "embedding (Embedding)           (None, 30, 100)      844000      input_1[0][0]                    \n",
      "__________________________________________________________________________________________________\n",
      "lstm (LSTM)                     [(None, 30, 300), (N 481200      embedding[0][0]                  \n",
      "__________________________________________________________________________________________________\n",
      "input_2 (InputLayer)            [(None, None)]       0                                            \n",
      "__________________________________________________________________________________________________\n",
      "lstm_1 (LSTM)                   [(None, 30, 300), (N 721200      lstm[0][0]                       \n",
      "__________________________________________________________________________________________________\n",
      "embedding_1 (Embedding)         (None, None, 100)    198900      input_2[0][0]                    \n",
      "__________________________________________________________________________________________________\n",
      "lstm_2 (LSTM)                   [(None, 30, 300), (N 721200      lstm_1[0][0]                     \n",
      "__________________________________________________________________________________________________\n",
      "lstm_3 (LSTM)                   [(None, None, 300),  481200      embedding_1[0][0]                \n",
      "                                                                 lstm_2[0][1]                     \n",
      "                                                                 lstm_2[0][2]                     \n",
      "__________________________________________________________________________________________________\n",
      "attention_layer (AttentionLayer ((None, None, 300),  180300      lstm_2[0][0]                     \n",
      "                                                                 lstm_3[0][0]                     \n",
      "__________________________________________________________________________________________________\n",
      "concat_layer (Concatenate)      (None, None, 600)    0           lstm_3[0][0]                     \n",
      "                                                                 attention_layer[0][0]            \n",
      "__________________________________________________________________________________________________\n",
      "time_distributed (TimeDistribut (None, None, 1989)   1195389     concat_layer[0][0]               \n",
      "==================================================================================================\n",
      "Total params: 4,823,389\n",
      "Trainable params: 4,823,389\n",
      "Non-trainable params: 0\n",
      "__________________________________________________________________________________________________\n"
     ]
    }
   ],
   "source": [
    "from keras import backend as K \n",
    "K.clear_session()\n",
    "\n",
    "latent_dim = 300\n",
    "embedding_dim=100\n",
    "\n",
    "# Encoder\n",
    "encoder_inputs = Input(shape=(max_text_len,))\n",
    "\n",
    "#embedding layer\n",
    "enc_emb =  Embedding(x_voc, embedding_dim,trainable=True)(encoder_inputs)\n",
    "\n",
    "#encoder lstm 1\n",
    "encoder_lstm1 = LSTM(latent_dim,return_sequences=True,return_state=True,dropout=0.4,recurrent_dropout=0.4)\n",
    "encoder_output1, state_h1, state_c1 = encoder_lstm1(enc_emb)\n",
    "\n",
    "#encoder lstm 2\n",
    "encoder_lstm2 = LSTM(latent_dim,return_sequences=True,return_state=True,dropout=0.4,recurrent_dropout=0.4)\n",
    "encoder_output2, state_h2, state_c2 = encoder_lstm2(encoder_output1)\n",
    "\n",
    "#encoder lstm 3\n",
    "encoder_lstm3=LSTM(latent_dim, return_state=True, return_sequences=True,dropout=0.4,recurrent_dropout=0.4)\n",
    "encoder_outputs, state_h, state_c= encoder_lstm3(encoder_output2)\n",
    "\n",
    "# Set up the decoder, using `encoder_states` as initial state.\n",
    "decoder_inputs = Input(shape=(None,))\n",
    "\n",
    "#embedding layer\n",
    "dec_emb_layer = Embedding(y_voc, embedding_dim,trainable=True)\n",
    "dec_emb = dec_emb_layer(decoder_inputs)\n",
    "\n",
    "decoder_lstm = LSTM(latent_dim, return_sequences=True, return_state=True,dropout=0.4,recurrent_dropout=0.2)\n",
    "decoder_outputs,decoder_fwd_state, decoder_back_state = decoder_lstm(dec_emb,initial_state=[state_h, state_c])\n",
    "\n",
    "# Attention layer\n",
    "attn_layer = AttentionLayer(name='attention_layer')\n",
    "attn_out, attn_states = attn_layer([encoder_outputs, decoder_outputs])\n",
    "\n",
    "# Concat attention input and decoder LSTM output\n",
    "decoder_concat_input = Concatenate(axis=-1, name='concat_layer')([decoder_outputs, attn_out])\n",
    "\n",
    "#dense layer\n",
    "decoder_dense =  TimeDistributed(Dense(y_voc, activation='softmax'))\n",
    "decoder_outputs = decoder_dense(decoder_concat_input)\n",
    "\n",
    "# Define the model \n",
    "model = Model([encoder_inputs, decoder_inputs], decoder_outputs)\n",
    "\n",
    "model.summary()"
   ]
  },
  {
   "cell_type": "code",
   "execution_count": 43,
   "metadata": {},
   "outputs": [],
   "source": [
    "model.compile(optimizer='rmsprop', loss='sparse_categorical_crossentropy')"
   ]
  },
  {
   "cell_type": "code",
   "execution_count": 44,
   "metadata": {},
   "outputs": [],
   "source": [
    "es = EarlyStopping(monitor='val_loss', mode='min', verbose=1,patience=2)"
   ]
  },
  {
   "cell_type": "code",
   "execution_count": 45,
   "metadata": {},
   "outputs": [
    {
     "name": "stderr",
     "output_type": "stream",
     "text": [
      "W0616 22:33:15.108410 18288 deprecation.py:323] From C:\\Users\\ashwi\\Anaconda3\\lib\\site-packages\\tensorflow\\python\\ops\\math_grad.py:1250: add_dispatch_support.<locals>.wrapper (from tensorflow.python.ops.array_ops) is deprecated and will be removed in a future version.\n",
      "Instructions for updating:\n",
      "Use tf.where in 2.0, which has the same broadcast rule as np.where\n"
     ]
    },
    {
     "name": "stdout",
     "output_type": "stream",
     "text": [
      "Train on 42453 samples, validate on 4717 samples\n",
      "Epoch 1/50\n",
      "42453/42453 [==============================] - 855s 20ms/sample - loss: 2.6998 - val_loss: 2.3455\n",
      "Epoch 2/50\n",
      "42453/42453 [==============================] - 910s 21ms/sample - loss: 2.2825 - val_loss: 2.1958\n",
      "Epoch 3/50\n",
      "42453/42453 [==============================] - 911s 21ms/sample - loss: 2.1569 - val_loss: 2.1041\n",
      "Epoch 4/50\n",
      "42453/42453 [==============================] - 900s 21ms/sample - loss: 2.0777 - val_loss: 2.0514\n",
      "Epoch 5/50\n",
      "42453/42453 [==============================] - 900s 21ms/sample - loss: 2.0188 - val_loss: 2.0120\n",
      "Epoch 6/50\n",
      "42453/42453 [==============================] - 1145s 27ms/sample - loss: 1.9749 - val_loss: 1.9870\n",
      "Epoch 7/50\n",
      "42453/42453 [==============================] - 867s 20ms/sample - loss: 1.9344 - val_loss: 1.9667\n",
      "Epoch 8/50\n",
      "42453/42453 [==============================] - 27140s 639ms/sample - loss: 1.9004 - val_loss: 1.9431\n",
      "Epoch 9/50\n",
      "42453/42453 [==============================] - 997s 23ms/sample - loss: 1.8722 - val_loss: 1.9322\n",
      "Epoch 10/50\n",
      "42453/42453 [==============================] - 875s 21ms/sample - loss: 1.8440 - val_loss: 1.9125\n",
      "Epoch 11/50\n",
      "42453/42453 [==============================] - 1651s 39ms/sample - loss: 1.8165 - val_loss: 1.9021\n",
      "Epoch 12/50\n",
      "42453/42453 [==============================] - 987s 23ms/sample - loss: 1.7904 - val_loss: 1.8973\n",
      "Epoch 13/50\n",
      "42453/42453 [==============================] - 997s 23ms/sample - loss: 1.7672 - val_loss: 1.8959\n",
      "Epoch 14/50\n",
      "42453/42453 [==============================] - 1010s 24ms/sample - loss: 1.7458 - val_loss: 1.8770\n",
      "Epoch 15/50\n",
      "42453/42453 [==============================] - 988s 23ms/sample - loss: 1.7272 - val_loss: 1.8779\n",
      "Epoch 16/50\n",
      "42453/42453 [==============================] - 927s 22ms/sample - loss: 1.7088 - val_loss: 1.8733\n",
      "Epoch 17/50\n",
      "42453/42453 [==============================] - 886s 21ms/sample - loss: 1.6921 - val_loss: 1.8670\n",
      "Epoch 18/50\n",
      "42453/42453 [==============================] - 1004s 24ms/sample - loss: 1.6752 - val_loss: 1.8678\n",
      "Epoch 19/50\n",
      "42453/42453 [==============================] - 978s 23ms/sample - loss: 1.6564 - val_loss: 1.8711\n",
      "Epoch 00019: early stopping\n"
     ]
    }
   ],
   "source": [
    "history=model.fit([x_tr,y_tr[:,:-1]], y_tr.reshape(y_tr.shape[0],y_tr.shape[1], 1)[:,1:] ,epochs=50,callbacks=[es],batch_size=128, validation_data=([x_val,y_val[:,:-1]], y_val.reshape(y_val.shape[0],y_val.shape[1], 1)[:,1:]))"
   ]
  },
  {
   "cell_type": "code",
   "execution_count": 59,
   "metadata": {},
   "outputs": [
    {
     "data": {
      "image/png": "[encoded data removed]",
      "text/plain": [
       "<Figure size 432x288 with 1 Axes>"
      ]
     },
     "metadata": {
      "needs_background": "light"
     },
     "output_type": "display_data"
    }
   ],
   "source": [
    "from matplotlib import pyplot\n",
    "pyplot.plot(history.history['loss'], label='train')\n",
    "pyplot.plot(history.history['val_loss'], label='test')\n",
    "pyplot.legend()\n",
    "pyplot.show()"
   ]
  },
  {
   "cell_type": "code",
   "execution_count": 60,
   "metadata": {},
   "outputs": [],
   "source": [
    "reverse_target_word_index=y_tokenizer.index_word\n",
    "reverse_source_word_index=x_tokenizer.index_word\n",
    "target_word_index=y_tokenizer.word_index"
   ]
  },
  {
   "cell_type": "code",
   "execution_count": 61,
   "metadata": {},
   "outputs": [],
   "source": [
    "# Encode the input sequence to get the feature vector\n",
    "encoder_model = Model(inputs=encoder_inputs,outputs=[encoder_outputs, state_h, state_c])\n",
    "\n",
    "# Decoder setup\n",
    "# Below tensors will hold the states of the previous time step\n",
    "decoder_state_input_h = Input(shape=(latent_dim,))\n",
    "decoder_state_input_c = Input(shape=(latent_dim,))\n",
    "decoder_hidden_state_input = Input(shape=(max_text_len,latent_dim))\n",
    "\n",
    "# Get the embeddings of the decoder sequence\n",
    "dec_emb2= dec_emb_layer(decoder_inputs) \n",
    "# To predict the next word in the sequence, set the initial states to the states from the previous time step\n",
    "decoder_outputs2, state_h2, state_c2 = decoder_lstm(dec_emb2, initial_state=[decoder_state_input_h, decoder_state_input_c])\n",
    "\n",
    "#attention inference\n",
    "attn_out_inf, attn_states_inf = attn_layer([decoder_hidden_state_input, decoder_outputs2])\n",
    "decoder_inf_concat = Concatenate(axis=-1, name='concat')([decoder_outputs2, attn_out_inf])\n",
    "\n",
    "# A dense softmax layer to generate prob dist. over the target vocabulary\n",
    "decoder_outputs2 = decoder_dense(decoder_inf_concat) \n",
    "\n",
    "# Final decoder model\n",
    "decoder_model = Model(\n",
    "    [decoder_inputs] + [decoder_hidden_state_input,decoder_state_input_h, decoder_state_input_c],\n",
    "    [decoder_outputs2] + [state_h2, state_c2])"
   ]
  },
  {
   "cell_type": "code",
   "execution_count": 117,
   "metadata": {},
   "outputs": [],
   "source": [
    "def decode_sequence(input_seq):\n",
    "    # Encode the input as state vectors.\n",
    "    e_out, e_h, e_c = encoder_model.predict(input_seq)\n",
    "    \n",
    "    # Generate empty target sequence of length 1.\n",
    "    target_seq = np.zeros((1,1))\n",
    "    \n",
    "    # Populate the first word of target sequence with the start word.\n",
    "    target_seq[0, 0] = target_word_index['start']\n",
    "\n",
    "    stop_condition = False\n",
    "    decoded_sentence = ''\n",
    "    while not stop_condition:\n",
    "      \n",
    "        output_tokens, h, c = decoder_model.predict([target_seq] + [e_out, e_h, e_c])\n",
    "\n",
    "        # Sample a token\n",
    "        sampled_token_index = np.argmax(output_tokens[0, -1, :])\n",
    "        sampled_token = reverse_target_word_index[sampled_token_index]\n",
    "        \n",
    "        if(sampled_token!='end'):\n",
    "            decoded_sentence += ' '+sampled_token\n",
    "\n",
    "        # Exit condition: either hit max length or find stop word.\n",
    "        if (sampled_token == 'end'  or len(decoded_sentence.split()) >= (max_summary_len-1)):\n",
    "            stop_condition = True\n",
    "\n",
    "        # Update the target sequence (of length 1).\n",
    "        target_seq = np.zeros((1,1))\n",
    "        target_seq[0, 0] = sampled_token_index\n",
    "\n",
    "        # Update internal states\n",
    "        e_h, e_c = h, c\n",
    "\n",
    "    return decoded_sentence"
   ]
  },
  {
   "cell_type": "code",
   "execution_count": 118,
   "metadata": {},
   "outputs": [],
   "source": [
    "def seq2summary(input_seq):\n",
    "    newString=''\n",
    "    for i in input_seq:\n",
    "        if((i!=0 and (i!=target_word_index['sostok'] and i!=target_word_index['start'])) and (i!=target_word_index['eostok'] and i!=target_word_index['end'])):\n",
    "            newString=newString+reverse_target_word_index[i]+' '\n",
    "    finalString=''\n",
    "    new=newString.split()\n",
    "    for i in new:\n",
    "        if i!='sostok' and i!='start':\n",
    "            finalString=finalString+' '+i\n",
    "    return finalString\n",
    "\n",
    "def seq2text(input_seq):\n",
    "    newString=''\n",
    "    for i in input_seq:\n",
    "        if(i!=0):\n",
    "            newString=newString+reverse_source_word_index[i]+' '\n",
    "    finalString=''\n",
    "    new=newString.split()\n",
    "    for i in new:\n",
    "        if i!='sostok' and i!='start':\n",
    "            finalString=finalString+' '+i\n",
    "    return finalString"
   ]
  },
  {
   "cell_type": "code",
   "execution_count": 119,
   "metadata": {
    "scrolled": true
   },
   "outputs": [
    {
     "name": "stdout",
     "output_type": "stream",
     "text": [
      "Review:  great healthy chew old beagle rio loves taste sure beats arm\n",
      "Original summary:  yummy\n",
      "Predicted summary:  my favorite loves this food\n",
      "\n",
      "\n",
      "Review:  thank goodness carbonated drink tasty without additives taste like cherry drinks slightly lighter flavoring although less half volume normal wonder things good comes small size least recycled\n",
      "Original summary:  it is tasty\n",
      "Predicted summary:  great taste and great price\n",
      "\n",
      "\n",
      "Review:  extra bold coffee one favorites extra bold could compared bold coffee regular coffee brewer\n",
      "Original summary:  great coffee for keurig brewer\n",
      "Predicted summary:  great coffee at great price\n",
      "\n",
      "\n",
      "Review:  like flavored coffee taste like coffee may could taste coffee travel size brew smaller brew sizes bit better\n",
      "Original summary:  much caramel cream not enough coffee\n",
      "Predicted summary:  not bad but not great\n",
      "\n",
      "\n",
      "Review:  slightly overpriced one kitty last month less pound bags recently purchased petsmart dollars pound bag\n",
      "Original summary:  great food\n",
      "Predicted summary:  my cat loves this food\n",
      "\n",
      "\n",
      "Review:  boss likes smarties saw giant smarties thought would funny handed small said call handing giant thought looked\n",
      "Original summary:  big hit at the office\n",
      "Predicted summary:  not bad but not bad\n",
      "\n",
      "\n",
      "Review:  grateful amazing mix used make best gluten free products break us gluten free individuals miss real mixes ones market dont trick like\n",
      "Original summary:  amazing\n",
      "Predicted summary:  great tasting gluten free cookies\n",
      "\n",
      "\n",
      "Review:  like even regular bisquick mix make pancakes taste closer scratch wheat flour pancakes members family tried yet used pizza crust biscuits\n",
      "Original summary:  just about perfect for pancakes\n",
      "Predicted summary:  best gluten free pasta ever\n",
      "\n",
      "\n",
      "Review:  product wonderful like hot also good mixed ice milk blender love\n",
      "Original summary:  great\n",
      "Predicted summary:  great taste and great price\n",
      "\n",
      "\n",
      "Review:  better tasting cheaper hr energy experience energy boost equal hr energy lasts long however prefer taste saves money\n",
      "Original summary:  better tasting than energy\n",
      "Predicted summary:  great for the price price\n",
      "\n",
      "\n",
      "Review:  product makes medicine oh easy big ol chocolate lab would sell soul greenies pill pocket\n",
      "Original summary:  idea for pet\n",
      "Predicted summary:  great for an affordable training\n",
      "\n",
      "\n",
      "Review:  cherry pie favorite larabar apple pie also good however banana bread blueberry leaves much desired cannot recommend flavors local grocery store sells time amazon competing local retailers product\n",
      "Original summary:  most flavors are excellent amazon overpriced\n",
      "Predicted summary:  great bread for gluten free\n",
      "\n",
      "\n",
      "Review:  syrup right flavor perfect blend toffee nut dab added cup coffee dinner makes perfect desert coffee anyone drinks coffee highly recommended\n",
      "Original summary:  wonderful\n",
      "Predicted summary:  great taste and great price\n",
      "\n",
      "\n",
      "Review:  wow drink tastes terrible made heart really jittery handle caffiene good enough stuff much never drink stuff\n",
      "Original summary:  tastes terrible and made my heart\n",
      "Predicted summary:  tastes like the real thing\n",
      "\n",
      "\n",
      "Review:  stuff awesome nice see functional coffee drink natural tastes great much energy drink cup morning one lunch used cup desk time lost weight energy level way highly recommend\n",
      "Original summary:  great coffee so much energy\n",
      "Predicted summary:  great coffee at great price\n",
      "\n",
      "\n",
      "Review:  get taken picture show get entire package many bars get one small bar shame shame showing false advertising\n",
      "Original summary:  not what you see\n",
      "Predicted summary:  not as good as expected\n",
      "\n",
      "\n",
      "Review:  excellent cooking imparts nice fragrance slight coconutty taste nutiva favorite brand virgin coconut oil bad batch yet\n",
      "Original summary:  the stuff you are looking for\n",
      "Predicted summary:  not as good as expected\n",
      "\n",
      "\n",
      "Review:  anyone else noticed musty taste tea good great every often get teabag smells tastes musty bad\n",
      "Original summary: \n",
      "Predicted summary:  not as good as expected\n",
      "\n",
      "\n",
      "Review:  product chewy good flavor first tried cracker barrel amazon cheaper get product buck\n",
      "Original summary:  lucky country licorice\n",
      "Predicted summary:  good but not the best\n",
      "\n",
      "\n",
      "Review:  like taste fact organic first bottle using clumps badly get couple shakes bang bottle something rather frustrating\n",
      "Original summary:  good taste\n",
      "Predicted summary:  good but not the best\n",
      "\n",
      "\n",
      "Review:  great idea works intended even small bit gives one dogs really bad runs yikes might try different flavor see cause problem\n",
      "Original summary:  good idea\n",
      "Predicted summary:  my dogs love this stuff\n",
      "\n",
      "\n",
      "Review:  bars tasty larger regular granola bar keep full longer complaint available flavors little spendy ounce ounce probably price similar bar\n",
      "Original summary:  better than regular granola bar\n",
      "Predicted summary:  great snack for the price\n",
      "\n",
      "\n",
      "Review:  unlike rye crisp products ryvita offers several varieties without wheat cannot tolerate wasa discontinued one wheat free product without source discovered amazon carried ryvita thank wonderful\n",
      "Original summary:  allergy delight\n",
      "Predicted summary:  great taste and great price\n",
      "\n",
      "\n",
      "Review:  love product measuring coffee morning throwing old coffee best ideal ever\n",
      "Original summary:  excellent product\n",
      "Predicted summary:  great coffee at great price\n",
      "\n",
      "\n",
      "Review:  chips best tasted filled chemicals taste tangy vinegar well potato greasy perfectly crispy like salt vinegar tanginess even bother try definitely zip love children friends love even year old loves\n",
      "Original summary:  fabulous\n",
      "Predicted summary:  great chips for the money\n",
      "\n",
      "\n",
      "Review:  best moroccan style green mint tea ever reasonably priced little dispenser containers well like mild minty tea little caffeine highly recommend\n",
      "Original summary:  delicious tea\n",
      "Predicted summary:  best tea on the market\n",
      "\n",
      "\n",
      "Review:  purchased product enjoyed definitely cheaper starbucks green tea latte although dissolve smoothly since green tea healthy anyhow problem purchasing\n",
      "Original summary:  good product\n",
      "Predicted summary:  great tea for the price\n",
      "\n",
      "\n",
      "Review:  wasted money tried putting different cereal dog foods etc dog completely\n",
      "Original summary:  dog loves everything but hates this\n",
      "Predicted summary:  my dog loves this stuff\n",
      "\n",
      "\n",
      "Review:  happy quick shipping needed school product daughter came roof broken corner house broken could send back needed project\n",
      "Original summary:  shipping\n",
      "Predicted summary:  great product but too expensive\n",
      "\n",
      "\n",
      "Review:  major tea drinkers stash premium organic earl grey tea wonderful great flavor great price added benefit getting antioxidants win win everyone highly recommended\n",
      "Original summary:  fabulous tea\n",
      "Predicted summary:  great tea at great price\n",
      "\n",
      "\n",
      "Review:  got fast grew quickly cats love excellent choice anyone make cats happy purchasing product plus cats completely stopped chewing plants house\n",
      "Original summary:  great product\n",
      "Predicted summary:  my cats love this food\n",
      "\n",
      "\n",
      "Review:  home brew beats starbucks organic one love whole bean coffe ounce definitely recommend coffee one love organic gourmet coffee lb bag whole bean\n",
      "Original summary:  it it is now my favorite\n",
      "Predicted summary:  great coffee at great price\n",
      "\n",
      "\n",
      "Review:  everything expired disappointing thought would make cute gift step dad unfortunately wasnt able enjoy wasnt couple months expired either year old\n",
      "Original summary:  expired\n",
      "Predicted summary:  do not buy this product\n",
      "\n",
      "\n",
      "Review:  wonderful flavors good price convenience home shopped many stores finally find amazon add almond milk make delightful low calorie snack\n",
      "Original summary:  torani sugar free variety pack\n",
      "Predicted summary:  great for on the go\n",
      "\n",
      "\n",
      "Review:  longer could find white buttery stores area found thru amazon ordered quality like popcorn without strong buttery taste one\n",
      "Original summary:  good\n",
      "Predicted summary:  great popcorn at great price\n",
      "\n",
      "\n",
      "Review:  friend left tea moved become favorite wish could find locally however glad found amazon\n",
      "Original summary:  love the tea\n",
      "Predicted summary:  great tea for the price\n",
      "\n",
      "\n",
      "Review:  dogs love food limited ingredients low makes great well\n",
      "Original summary:  free and my dogs love it\n",
      "Predicted summary:  my dogs love this food\n",
      "\n",
      "\n",
      "Review:  compared health food store amazon price far better value buy suggest keep sealed jar put open snack dish awful lost crunchiness otherwise love snack\n",
      "Original summary:  wheat nuts\n",
      "Predicted summary:  great product for the price\n",
      "\n",
      "\n",
      "Review:  received two bags grandma lucy sweet potato dog treats disappointed box packages reduced sweet potato crumbs get wrong grandma lucy great product expected treats crumbs\n",
      "Original summary:  lucy sweet potato dog treats crumbs\n"
     ]
    },
    {
     "name": "stdout",
     "output_type": "stream",
     "text": [
      "Predicted summary:  my dog loves these treats\n",
      "\n",
      "\n",
      "Review:  love bars reason get stars price tried save money buying instead store turns difference price nearly cheaper much would think anyway taste quality great\n",
      "Original summary:  love them\n",
      "Predicted summary:  great product but too expensive\n",
      "\n",
      "\n",
      "Review:  little disappointed sprouts protected seal hoping ones get cause one alfalfa received protective seal decided purchase based one hope future seal arrived good shape timely matter\n",
      "Original summary:  the seeds are good but\n",
      "Predicted summary:  not as good as expected\n",
      "\n",
      "\n",
      "Review:  first tried glass straight strong aromatic coffee smell good dark color strong coffee flavor hint sweetness next heated cup microwave consistent results surprisingly good canned coffee\n",
      "Original summary:  tasty hot or cold\n",
      "Predicted summary:  great coffee at great price\n",
      "\n",
      "\n",
      "Review:  meat flavor feel could little also slices thin burn quick dont pay attention cucumber sause place amazing though\n",
      "Original summary:  not the best not the worst\n",
      "Predicted summary:  not as good as expected\n",
      "\n",
      "\n",
      "Review:  hard find free gluten soy corn daughter eat shaped cereal find one yummier others better ingredients hard find stores happy see amazon happy buy pack\n",
      "Original summary:  yummy\n",
      "Predicted summary:  great gluten free snack mix\n",
      "\n",
      "\n",
      "Review:  product exceeds expectations tastes great raise blood sugar like regular refined pasta wish styles shapes pasta\n",
      "Original summary:  mr\n",
      "Predicted summary:  great for the price price\n",
      "\n",
      "\n",
      "Review:  great like coffee strong price fantastic compared department stores love cups\n",
      "Original summary:  cannot beat the price\n",
      "Predicted summary:  great coffee at great price\n",
      "\n",
      "\n",
      "Review:  really nice tea mango flavour subtle overpower green tea nice drink hot even better iced yum\n",
      "Original summary:  delicious\n",
      "Predicted summary:  great tea for the price\n",
      "\n",
      "\n",
      "Review:  days dog rolled couch onto floor caused inch section brittle screw bottom break toy useless potentially dangerous\n",
      "Original summary:  great concept\n",
      "Predicted summary:  not my dog loves it\n",
      "\n",
      "\n",
      "Review:  ordered enjoy however wish much sodium\n",
      "Original summary:  beef jerky\n",
      "Predicted summary:  not bad but too salty\n",
      "\n",
      "\n",
      "Review:  new favorite gr great blend half caff especially brands like folgers real flavor brews get free shipping\n",
      "Original summary:  fog chaser fantastic\n",
      "Predicted summary:  great coffee at great price\n",
      "\n",
      "\n",
      "Review:  bought give little extra boost tough new england worked good expected gave continued energy mile course without jittery feeling energy drinks\n",
      "Original summary:  energy boost\n",
      "Predicted summary:  great for on the go\n",
      "\n",
      "\n",
      "Review:  ziwipeak excellent product ten pound chihuahua suffers skin allergies tried food products grain chicken free loves product recommend highly ordered amazon could satisfied\n",
      "Original summary:  excellent dog food\n",
      "Predicted summary:  great for on the go\n",
      "\n",
      "\n",
      "Review:  tasty gluten free option kids loved spicy\n",
      "Original summary:  gluten free goodness\n",
      "Predicted summary:  great gluten free snack mix\n",
      "\n",
      "\n",
      "Review:  nothing new nothing seen wanted coffee got mocha type hot chocolate style drinks mix looking german chocolate coffee come island coconut wolfgang coconut flavors typical nothing worth disappointment\n",
      "Original summary:  not great selection\n",
      "Predicted summary:  not the same as expected\n",
      "\n",
      "\n",
      "Review:  excellent flavor properly done french roast smokey rich sufficiently strong though always think cups need coffee\n",
      "Original summary:  excellent\n",
      "Predicted summary:  great coffee at great price\n",
      "\n",
      "\n",
      "Review:  smooth taste strong without quality taste would expect way packaging makes wonder long sitting taste fresh normal ones buy donut shop going back brand\n",
      "Original summary:  tullys coffee average\n",
      "Predicted summary:  not bad but not bad\n",
      "\n",
      "\n",
      "Review:  easy order favorite coffee amazon love taste coffee ease brewing\n",
      "Original summary:  to the for senseo french vanilla\n",
      "Predicted summary:  great coffee at great price\n",
      "\n",
      "\n",
      "Review:  buy cereal case local store carry best raisin bran raisin eating opinion sweet like great flavor consistency\n",
      "Original summary:  the best cereal ever\n",
      "Predicted summary:  great cereal and great price\n",
      "\n",
      "\n",
      "Review:  favorite toy house extremely durable dogs get tired well worth money\n",
      "Original summary:  great toy\n",
      "Predicted summary:  my dogs love this food\n",
      "\n",
      "\n",
      "Review:  would like reorder excellent product currently unavailable happy first order hope come back soon\n",
      "Original summary:  excellent product\n",
      "Predicted summary:  great taste and great price\n",
      "\n",
      "\n",
      "Review:  favorite chocolate since young loved came early wished cheaper though chocolate covering bit thicker\n",
      "Original summary:  best chocolate\n",
      "Predicted summary:  great chocolate and great taste\n",
      "\n",
      "\n",
      "Review:  excellent product tastes exactly way want huckleberry fix thing get\n",
      "Original summary:  delicious\n",
      "Predicted summary:  great product at great price\n",
      "\n",
      "\n",
      "Review:  tasting watermelon strawberry flavor pleasantly surprised good one tasted imagine carbonated juice natural overwhelming taste buds one real keeper light refreshing great flavor keeps us coming\n",
      "Original summary:  this flavor is actually pretty good\n",
      "Predicted summary:  not my favorite of flavor\n",
      "\n",
      "\n",
      "Review:  asin erin baker breakfast cookies oatmeal raisin ounce individually wrapped cookies love cookies breakfast snack keep feeling full hours give lots energy feel good eatting since healthy yummy\n",
      "Original summary:  love these cookies\n",
      "Predicted summary:  great for gluten free snack\n",
      "\n",
      "\n",
      "Review:  rum cake awesome cannot get enough good want share anybody else\n",
      "Original summary:  powerful smell awesome taste\n",
      "Predicted summary:  great taste and great price\n",
      "\n",
      "\n",
      "Review:  coffee outstanding thanks amazon arrived practically time one surprise however shipped via costco warehouse giant immensely pleased purchase thanks amazon\n",
      "Original summary:  rich flavorful kona three for three\n",
      "Predicted summary:  great coffee at great price\n",
      "\n",
      "\n",
      "Review:  smelled nice color light brown course grind french press weak drinkable opinion sure got bad one meant french press\n",
      "Original summary:  not for me\n",
      "Predicted summary:  not bad but not bad\n",
      "\n",
      "\n",
      "Review:  stash tea fan years price amazon grocery terrific yes drink chai every day throughout winter try regular decaf chai tablespoon two real cream perfect drink chilly days\n",
      "Original summary:  chai on cold winter night perfect\n",
      "Predicted summary:  great tea at great price\n",
      "\n",
      "\n",
      "Review:  everything arrived good shape received wanted fast delivery would buy people\n",
      "Original summary:  instant noodles\n",
      "Predicted summary:  great product for the price\n",
      "\n",
      "\n",
      "Review:  delicious mild variety coffee overly strong like starbucks coffees order one repeatedly\n",
      "Original summary:  favorite starbucks flavor\n",
      "Predicted summary:  great coffee at great price\n",
      "\n",
      "\n",
      "Review:  purchased senseo work customers love flavor choices tasty cup coffee quickly hands coworkers also help cup forget bring vanilla bistro leading favorite flavors gotten good reviews around\n",
      "Original summary:  simple quick tasty\n",
      "Predicted summary:  great coffee at great price\n",
      "\n",
      "\n",
      "Review:  picky cats ordered case would touch sent mom several cats would touch either even dog would eat\n",
      "Original summary:  my cats will not eat it\n",
      "Predicted summary:  my cats love this food\n",
      "\n",
      "\n",
      "Review:  pecans great cooking baking snacking shipping bit pricey delivery fast\n",
      "Original summary:  great pecans\n",
      "Predicted summary:  great soup for the price\n",
      "\n",
      "\n",
      "Review:  love delicious reasonable substitute cat\n",
      "Original summary:  woof\n",
      "Predicted summary:  my cats love this food\n",
      "\n",
      "\n",
      "Review:  long enjoyed combination fruit drink mixed sparkling water fruit drinks tend sweet syrupy taste sparkling water cuts adds zing carbonation well drink work well really enjoyed buy\n",
      "Original summary:  great tasting drink\n",
      "Predicted summary:  great taste and great price\n",
      "\n",
      "\n",
      "Review:  great sandwich crackers wife uses pasta casserole also economical\n",
      "Original summary:  great snack food\n",
      "Predicted summary:  great gluten free crackers mix\n",
      "\n",
      "\n",
      "Review:  ordered year ago repeatedly ordered since everyone shared loved much also gotten right amazon ordered also mix coffee feeling particularly top cream delicious\n",
      "Original summary:  totally hooked\n",
      "Predicted summary:  great taste and great price\n",
      "\n",
      "\n",
      "Review:  know sugar sand time since ingredients crispy thin listed amazon time received order sugar added product going get trouble\n",
      "Original summary: \n",
      "Predicted summary:  not as good as expected\n",
      "\n",
      "\n",
      "Review:  gluten free foods eat lately actually really good definitely buying\n",
      "Original summary:  really really good\n"
     ]
    },
    {
     "name": "stdout",
     "output_type": "stream",
     "text": [
      "Predicted summary:  great gluten free gluten free\n",
      "\n",
      "\n",
      "Review:  best brownie mix found bad amazon cannot keep stock maybe good thing since go way sugar fat whenever bake batch great take along trips long hikes\n",
      "Original summary:  gluten free and decadent\n",
      "Predicted summary:  great taste and great price\n",
      "\n",
      "\n",
      "Review:  disappointed small size shocked brick like texture bar chewy name tastes good hard texture small size mind called amazon complaint received full refund thank\n",
      "Original summary:  not pleased\n",
      "Predicted summary:  not as good as expected\n",
      "\n",
      "\n",
      "Review:  thought maybe dumped chewing mix spit mouth bad\n",
      "Original summary:  tastes like chewing\n",
      "Predicted summary:  not bad but not bad\n",
      "\n",
      "\n",
      "Review:  tasty however per nutrition info package one serving cookie calories half cookie fat half cookie grams eat whole thing calories grams fat\n",
      "Original summary:  tasty but\n",
      "Predicted summary:  not what was looking for\n",
      "\n",
      "\n",
      "Review:  flavorful salt imagine cook nice thick steak sprinkle little salt cut side make meat pop mouth never experimented finishing salts great starting point\n",
      "Original summary:  my favorite\n",
      "Predicted summary:  great salt and great price\n",
      "\n",
      "\n",
      "Review:  cats love flavor temptations treat time sit look husband get crumb left\n",
      "Original summary:  cat treats\n",
      "Predicted summary:  cats will not eat it\n",
      "\n",
      "\n",
      "Review:  hard find excited find online ordered bags enjoying ever since\n",
      "Original summary:  great\n",
      "Predicted summary:  great taste and great price\n",
      "\n",
      "\n",
      "Review:  flavorings need add sugar add whatever flavor mood\n",
      "Original summary:  no need for sugar\n",
      "Predicted summary:  great sugar free free sugar\n",
      "\n",
      "\n",
      "Review:  great stuff dog teeth could treats others problem solved loves bit messy learned treat minimal dripping others beg save guy pleasure able reward potty call\n",
      "Original summary:  great treat\n",
      "Predicted summary:  my dog loves these treats\n",
      "\n",
      "\n",
      "Review:  crackers perfect know subtle light flavour overpower whatever eating top whether guacamole hummus mustard cheese\n",
      "Original summary:  yum\n",
      "Predicted summary:  great for gluten free snack\n",
      "\n",
      "\n",
      "Review:  favorite tea regular green tea tastes little bitter addition brown rice gives tea nice smokey flavor winter drink least two cups day cannot get enough\n",
      "Original summary:  yummy\n",
      "Predicted summary:  great tea at great price\n",
      "\n",
      "\n",
      "Review:  sure pepperoni slices would taste like pleased purchase unlike review foul smell upon opening packages taste right packaging great definitely ordering\n",
      "Original summary:  pleased\n",
      "Predicted summary:  great taste and great price\n",
      "\n",
      "\n",
      "Review:  add labs meals morning joints expense products caused allergy problems problems last year\n",
      "Original summary:  support of\n",
      "Predicted summary:  great for baby food food\n",
      "\n",
      "\n",
      "Review:  best olive oil well worth price hard find happy find amazon regular customer great value outstanding product\n",
      "Original summary:  olive oil\n",
      "Predicted summary:  best olive oil have ever\n",
      "\n",
      "\n",
      "Review:  delicious oz bags distinct flavor smaller bags cannot keep house long husband gobbles right away\n",
      "Original summary:  my husband is addicted to these\n",
      "Predicted summary:  great taste and great price\n",
      "\n",
      "\n",
      "Review:  boxes oz plus shipping stores\n",
      "Original summary:  are you serious with this price\n",
      "Predicted summary:  great price for the price\n",
      "\n",
      "\n",
      "Review:  pop chips really good tasty healthy potato based horrible gluten free dang little starch eating regimen tasty made sick\n",
      "Original summary:  good but no more for me\n",
      "Predicted summary:  great chips and great price\n",
      "\n",
      "\n",
      "Review:  husband always cup big easy bold every morning quality consistent past several years ordered like dark roast without bitterness sometimes found dark roasts coffee\n",
      "Original summary:  the best dark roast coffees available\n",
      "Predicted summary:  great coffee at great price\n",
      "\n",
      "\n",
      "Review:  great tasting jell without sweet natural tasting low calories well sugar content\n",
      "Original summary:  without being too sweet\n",
      "Predicted summary:  great taste and great price\n",
      "\n",
      "\n",
      "Review:  large boxes cereal great price husband eating cereal box per box loving taste lasting effect lunch happy deal\n",
      "Original summary:  raisin bran cereal\n",
      "Predicted summary:  great cereal and great price\n",
      "\n",
      "\n",
      "Review:  great product oz really get sellers grocery store show price market really bear\n",
      "Original summary:  seller action packaged is over priced\n",
      "Predicted summary:  great product at great price\n",
      "\n",
      "\n"
     ]
    }
   ],
   "source": [
    "for i in range(0,100):\n",
    "    print(\"Review:\",seq2text(x_val[i]))\n",
    "    print(\"Original summary:\",seq2summary(y_val[i]))\n",
    "    print(\"Predicted summary:\",decode_sequence(x_val[i].reshape(1,max_text_len)))\n",
    "    print(\"\\n\")"
   ]
  },
  {
   "cell_type": "code",
   "execution_count": 127,
   "metadata": {},
   "outputs": [
    {
     "name": "stdout",
     "output_type": "stream",
     "text": [
      "good instant oatmeal best oatmeal brand uses cane sugar instead high fructouse corn syrup better sweetness doctors say form sugar better great cold morning time make mccann steel cut oats apple cinnamon best maple brown sugar regular good plus require doctoring actually tell three flavors apart\n"
     ]
    }
   ],
   "source": [
    "random_review=\"This is a good instant oatmeal from the best oatmeal brand.  It uses cane sugar instead of high fructouse corn syrup, so not only does it have a better sweetness, but some doctors now say that this form of sugar is better for you.  Great on a cold morning when you don't have time to make McCann's Steel Cut Oats.  The apple cinnamon is the best but the maple and brown sugar or the regular are good too.  Plus they don't require doctoring to actually tell the three flavors apart.\"\n",
    "cleaned_review = text_cleaner(random_review,0)\n",
    "print(cleaned_review)"
   ]
  },
  {
   "cell_type": "code",
   "execution_count": 131,
   "metadata": {
    "scrolled": true
   },
   "outputs": [],
   "source": [
    "cleaned_rev_seq   =   x_tokenizer.texts_to_sequences(cleaned_review)\n",
    "\n",
    "cleaned_review =   pad_sequences(cleaned_rev_seq, maxlen=max_text_len, padding='post')"
   ]
  },
  {
   "cell_type": "code",
   "execution_count": 134,
   "metadata": {},
   "outputs": [
    {
     "name": "stdout",
     "output_type": "stream",
     "text": [
      "Predicted summary:  great for on the go\n"
     ]
    }
   ],
   "source": [
    "print(\"Predicted summary:\",decode_sequence(cleaned_review))\n"
   ]
  }
 ],
 "metadata": {
  "kernelspec": {
   "display_name": "Python 3",
   "language": "python",
   "name": "python3"
  },
  "language_info": {
   "codemirror_mode": {
    "name": "ipython",
    "version": 3
   },
   "file_extension": ".py",
   "mimetype": "text/x-python",
   "name": "python",
   "nbconvert_exporter": "python",
   "pygments_lexer": "ipython3",
   "version": "3.7.4"
  }
 },
 "nbformat": 4,
 "nbformat_minor": 2
}
